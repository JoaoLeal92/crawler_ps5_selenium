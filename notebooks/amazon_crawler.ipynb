{
 "cells": [
  {
   "cell_type": "code",
   "execution_count": 81,
   "id": "caring-strain",
   "metadata": {
    "tags": []
   },
   "outputs": [],
   "source": [
    "import os\n",
    "from datetime import datetime\n",
    "\n",
    "from selenium import webdriver\n",
    "from selenium.webdriver.common.keys import Keys\n",
    "from selenium.common.exceptions import NoSuchElementException\n",
    "from selenium.webdriver.chrome.options import Options\n",
    "\n",
    "import telegram_send"
   ]
  },
  {
   "cell_type": "code",
   "execution_count": 68,
   "id": "chicken-journalist",
   "metadata": {},
   "outputs": [],
   "source": [
    "class Product:\n",
    "    def __init__(self, product_url):\n",
    "        self.url = product_url\n",
    "        self.name = None\n",
    "        self.price = None\n",
    "    \n",
    "    def get_product_feature(self, driver, tag, tag_attr, tag_attr_value):\n",
    "        try:\n",
    "            product_feat_element = driver.find_element_by_xpath(f'//{tag}[@{tag_attr}=\"{tag_attr_value}\"]')\n",
    "            product_feat = product_feat_element.text\n",
    "        except NoSuchElementException:\n",
    "            return None\n",
    "        except Exception as e:\n",
    "            # Enviar mensagem de alerta telegram contendo a descrição do erro\n",
    "            print(f'Ocorreu o seguinte erro: {e}')\n",
    "\n",
    "        return product_feat"
   ]
  },
  {
   "cell_type": "code",
   "execution_count": 67,
   "id": "organized-phone",
   "metadata": {},
   "outputs": [],
   "source": [
    "# BASE_URL = 'https://www.amazon.com.br/'\n",
    "BASE_URL = 'https://www.amazon.com.br/PlayStation-Console-PlayStation%C2%AE5/dp/B088GNRX3J/ref=sr_1_1?__mk_pt_BR=%C3%85M%C3%85%C5%BD%C3%95%C3%91&dchild=1&keywords=ps5&qid=1613470308&sr=8-1'\n",
    "# Ulr below used for testing\n",
    "# BASE_URL = 'https://www.amazon.com.br/God-War-Hits-PlayStation-4/dp/B07YT1GLV9/?_encoding=UTF8&pd_rd_w=yRrM3&pf_rd_p=d2ea4cd9-b3fa-4bdb-ab83-24ca9c54ecbe&pf_rd_r=3JF03Z0NMXW0PXVM86Z1&pd_rd_r=b592df2f-51e0-4fe5-8ccd-e6ff9930134e&pd_rd_wg=CLvfl&ref_=pd_gw_ci_mcx_mr_hp_d'"
   ]
  },
  {
   "cell_type": "code",
   "execution_count": 84,
   "id": "massive-separation",
   "metadata": {},
   "outputs": [],
   "source": [
    "product = Product(BASE_URL)"
   ]
  },
  {
   "cell_type": "code",
   "execution_count": 85,
   "id": "rational-phone",
   "metadata": {},
   "outputs": [],
   "source": [
    "DRIVER_PATH = os.path.abspath('../drivers/chromedriver')"
   ]
  },
  {
   "cell_type": "code",
   "execution_count": 86,
   "id": "historical-morgan",
   "metadata": {},
   "outputs": [],
   "source": [
    "# Set the driver options\n",
    "chrome_options = Options()\n",
    "chrome_options.add_argument(\"--disable-extensions\")\n",
    "chrome_options.add_argument(\"--disable-gpu\")\n",
    "chrome_options.add_argument(\"--no-sandbox\") # linux only\n",
    "chrome_options.add_argument(\"--headless\")"
   ]
  },
  {
   "cell_type": "code",
   "execution_count": 88,
   "id": "illegal-metadata",
   "metadata": {},
   "outputs": [],
   "source": [
    "driver = webdriver.Chrome(executable_path=DRIVER_PATH, options=chrome_options)\n",
    "driver.maximize_window()\n",
    "driver.implicitly_wait(10)\n",
    "\n",
    "driver.get(BASE_URL)"
   ]
  },
  {
   "cell_type": "code",
   "execution_count": 89,
   "id": "front-aerospace",
   "metadata": {},
   "outputs": [],
   "source": [
    "product.name = product.get_product_feature(driver, 'span', 'id', 'productTitle')\n",
    "product.price = product.get_product_feature(driver, 'span', 'id', 'priceblock_ourprice')"
   ]
  },
  {
   "cell_type": "code",
   "execution_count": 90,
   "id": "atmospheric-capture",
   "metadata": {},
   "outputs": [],
   "source": [
    "if not product.name:\n",
    "    telegram_send.send(messages=[\"Ocorreu um erro ao buscar o produto, verificar no site\"])\n",
    "    \n",
    "if product.price:\n",
    "    if product.name:\n",
    "        telegram_send.send(messages=[f\"Produto {product.name} encontrado por {product.price} na url abaixo: \\n\\n {product.url}\"])\n",
    "    else:\n",
    "        telegram_send.send(messages=[f\"Produto encontrado por {product.price} na url abaixo: \\n\\n {product.url}\"])"
   ]
  },
  {
   "cell_type": "code",
   "execution_count": 91,
   "id": "foreign-journalist",
   "metadata": {},
   "outputs": [],
   "source": [
    "driver.quit()"
   ]
  },
  {
   "cell_type": "code",
   "execution_count": 92,
   "id": "billion-lafayette",
   "metadata": {},
   "outputs": [],
   "source": [
    "current_date = datetime.now()\n",
    "current_hour = current_date.hour\n",
    "current_minute = current_date.minute\n",
    "\n",
    "# Checks if bot has run for 24h (every 7 am)\n",
    "if current_hour == 9 and current_minute <= 1:\n",
    "    telegram_send.send(messages=[\"Bot ativo por 24h, produto ainda não encontrado\"])"
   ]
  }
 ],
 "metadata": {
  "kernelspec": {
   "display_name": "Python 3",
   "language": "python",
   "name": "python3"
  },
  "language_info": {
   "codemirror_mode": {
    "name": "ipython",
    "version": 3
   },
   "file_extension": ".py",
   "mimetype": "text/x-python",
   "name": "python",
   "nbconvert_exporter": "python",
   "pygments_lexer": "ipython3",
   "version": "3.8.5"
  }
 },
 "nbformat": 4,
 "nbformat_minor": 5
}
